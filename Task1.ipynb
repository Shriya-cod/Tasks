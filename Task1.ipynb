{
  "nbformat": 4,
  "nbformat_minor": 0,
  "metadata": {
    "colab": {
      "provenance": []
    },
    "kernelspec": {
      "name": "python3",
      "display_name": "Python 3"
    },
    "language_info": {
      "name": "python"
    }
  },
  "cells": [
    {
      "cell_type": "code",
      "execution_count": 3,
      "metadata": {
        "colab": {
          "base_uri": "https://localhost:8080/"
        },
        "id": "_rpae-y54CrZ",
        "outputId": "787e7d40-cb04-44c6-a9b7-8c1eb1784092"
      },
      "outputs": [
        {
          "output_type": "stream",
          "name": "stdout",
          "text": [
            "Enter any number:5\n",
            "    5 \n",
            "  5   \n",
            "5     \n"
          ]
        }
      ],
      "source": [
        "# Anti diagonal\n",
        "r = int(input(\"Enter any number:\"))\n",
        "n = 3\n",
        "for i in range(n):\n",
        "  for j in range(n):\n",
        "    if(i + j == n - 1):\n",
        "      print(r, end = \" \")\n",
        "    else:\n",
        "      print(\" \", end =\" \")\n",
        "  print()"
      ]
    }
  ]
}