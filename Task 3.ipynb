{
  "nbformat": 4,
  "nbformat_minor": 0,
  "metadata": {
    "colab": {
      "provenance": []
    },
    "kernelspec": {
      "name": "python3",
      "display_name": "Python 3"
    },
    "language_info": {
      "name": "python"
    }
  },
  "cells": [
    {
      "cell_type": "code",
      "source": [
        "import pandas as pd\n",
        "data = {\n",
        "    'date':pd.date_range('2021-01-01', periods = 6),   # Initially a dictionary holdinng key value pairs\n",
        "    'sales': [100, 105, 210, 220, 110, 300]\n",
        "}\n",
        "df = pd.DataFrame(data)    # Converting it into a dataframe\n",
        "def detect_spikes(df: pd.DataFrame):   # Function declaration\n",
        "  df['day'] = range(1, len(df) + 1)  # Range used to create a column for days from 1 to 6\n",
        "  df['s'] = df['sales'].shift(-1) == 2 * (df['sales'])  # Flag variable set following the given condition\n",
        "  for i in range(len(df)):\n",
        "    if df.loc[i, 's']:   # Checking if the flag set is True to print the correct day number\n",
        "      print(f\"Day {df.loc[i + 1, 'day']}\")\n",
        "\n",
        "  return df\n",
        "\n",
        "df = detect_spikes(df) # Function called with argument as dataframe df\n"
      ],
      "metadata": {
        "colab": {
          "base_uri": "https://localhost:8080/"
        },
        "id": "myJuHAEm0neg",
        "outputId": "30f2fe7e-d245-4505-b442-71d3b9693144"
      },
      "execution_count": 15,
      "outputs": [
        {
          "output_type": "stream",
          "name": "stdout",
          "text": [
            "Day 3\n"
          ]
        }
      ]
    }
  ]
}