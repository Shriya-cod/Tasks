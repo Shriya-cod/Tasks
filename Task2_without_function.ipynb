{
  "nbformat": 4,
  "nbformat_minor": 0,
  "metadata": {
    "colab": {
      "provenance": [],
      "authorship_tag": "ABX9TyPfzW7t2aK39HDehX8QY5OW",
      "include_colab_link": true
    },
    "kernelspec": {
      "name": "python3",
      "display_name": "Python 3"
    },
    "language_info": {
      "name": "python"
    }
  },
  "cells": [
    {
      "cell_type": "markdown",
      "metadata": {
        "id": "view-in-github",
        "colab_type": "text"
      },
      "source": [
        "<a href=\"https://colab.research.google.com/github/Shriya-cod/Tasks/blob/main/Task2_without_function.ipynb\" target=\"_parent\"><img src=\"https://colab.research.google.com/assets/colab-badge.svg\" alt=\"Open In Colab\"/></a>"
      ]
    },
    {
      "cell_type": "code",
      "execution_count": 2,
      "metadata": {
        "colab": {
          "base_uri": "https://localhost:8080/"
        },
        "id": "qKzMR8dJu_qe",
        "outputId": "6fc65ab7-4c53-4b1d-b515-4d3e1af5afa0"
      },
      "outputs": [
        {
          "output_type": "stream",
          "name": "stdout",
          "text": [
            "12\n"
          ]
        }
      ],
      "source": [
        "import numpy as np\n",
        "arr = np.array([1, 2, 3, 4, 5]) #array\n",
        "k = 3 # window size\n",
        "'''1. Iterate 2 loops (inner loop will iterate till window size k &\n",
        "the outer loop  will iterate will iterate till the length of\n",
        " the array but is also slicing the window from the entire array)'''\n",
        "\n",
        "# 2. Within the inner loop take a variable to calculate the sum\n",
        "# 3. Use an if condition to check whether this sum is the max sum & print it\n",
        "\n",
        "max_sum = 12\n",
        "\n",
        "for i in range(len(arr) - k + 1): # Iterating while slicing the window from the array\n",
        "    sum = 0\n",
        "    for j in range(i, i + k): # Iterates from i to i+k-1\n",
        "        sum += arr[j]\n",
        "        if(sum == max_sum):\n",
        "            print(sum)\n",
        "        else:\n",
        "            pass"
      ]
    }
  ]
}