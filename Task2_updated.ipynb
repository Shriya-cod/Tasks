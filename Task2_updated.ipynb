{
  "nbformat": 4,
  "nbformat_minor": 0,
  "metadata": {
    "colab": {
      "provenance": []
    },
    "kernelspec": {
      "name": "python3",
      "display_name": "Python 3"
    },
    "language_info": {
      "name": "python"
    }
  },
  "cells": [
    {
      "cell_type": "code",
      "execution_count": 28,
      "metadata": {
        "colab": {
          "base_uri": "https://localhost:8080/"
        },
        "id": "qKzMR8dJu_qe",
        "outputId": "a5595161-6569-4e1f-e766-e97c81bf889a"
      },
      "outputs": [
        {
          "output_type": "stream",
          "name": "stdout",
          "text": [
            "Sum: 12, Array: [3 4 5]\n"
          ]
        }
      ],
      "source": [
        "# Without function\n",
        "\n",
        "import numpy as np\n",
        "arr = np.array([1, 2, 3, 4, 5]) #array\n",
        "k = 3 # window size\n",
        "'''1. Iterate 2 loops (inner loop will iterate till window size k &\n",
        "the outer loop  will iterate will iterate till the length of\n",
        " the array but is also slicing the window from the entire array)'''\n",
        "\n",
        "# 2. Within the inner loop take a variable to calculate the sum\n",
        "# 3. Use an if condition to check whether this sum is the max sum & print it\n",
        "\n",
        "max_sum = 12\n",
        "\n",
        "\n",
        "for i in range(len(arr) - k + 1):\n",
        "   sum = 0\n",
        "\n",
        "   for j in range(i, i + k):\n",
        "    sum += arr[j]\n",
        "    if(sum == max_sum):\n",
        "      print(f\"Sum: {sum}, Array: {arr[i : i + k]}\")\n",
        "      break\n",
        "\n",
        ""
      ]
    },
    {
      "cell_type": "code",
      "source": [
        "# Using function for window size 3\n",
        "\n",
        "def sliding_window_sum(arr:np.array, k:int) -> np.array:\n",
        "  pass\n",
        "  for i in range(len(arr) - k + 1):\n",
        "   sum = 0\n",
        "\n",
        "   for j in range(i, i + k):\n",
        "    sum += arr[j]\n",
        "    if(sum == max_sum):\n",
        "      print(f\"Array: {arr[i : i + k]}\")\n",
        "      break\n",
        "\n",
        "\n",
        "sliding_window_sum([1, 2, 3, 4, 5], 3)\n",
        "\n",
        "\n",
        "\n"
      ],
      "metadata": {
        "colab": {
          "base_uri": "https://localhost:8080/"
        },
        "id": "2HUk6h9Ev1t6",
        "outputId": "8bdfb317-ee25-461f-a17f-c20ac6c73cfb"
      },
      "execution_count": 29,
      "outputs": [
        {
          "output_type": "stream",
          "name": "stdout",
          "text": [
            "Array: [3, 4, 5]\n"
          ]
        }
      ]
    },
    {
      "cell_type": "code",
      "source": [
        "# Using function for window size N\n",
        "import numpy as np\n",
        "\n",
        "N = int(input(\"Enter the window size:\"))\n",
        "def sliding_window_sum(arr:np.array, k:int) -> np.array:  # Declaring a function taking parameters: array using Numpy & window size k\n",
        "  s_array = []     # Variable to store the array of the calculated sums\n",
        "  for i in range(len(arr) - k + 1): # Outer loop iterating over the entire array, slicing through windows\n",
        "      sum = 0\n",
        "\n",
        "      for j in range(i, i + k): #Inner loop for calculating the sum of the window elements\n",
        "          sum += arr[j]\n",
        "      s_array.append(sum) #Converts the sum into array elements by appending each calculated sum\n",
        "\n",
        "  return(s_array)\n",
        "\n",
        "\n",
        "\n",
        "p = sliding_window_sum([1, 2, 3, 4, 5], N) #Function call\n",
        "print(p)\n"
      ],
      "metadata": {
        "colab": {
          "base_uri": "https://localhost:8080/"
        },
        "id": "SEz5ajSa3NQ1",
        "outputId": "1fea46f2-dec2-46ab-f99c-102ab4c693ae"
      },
      "execution_count": 39,
      "outputs": [
        {
          "output_type": "stream",
          "name": "stdout",
          "text": [
            "Enter the window size:3\n",
            "[6, 9, 12]\n"
          ]
        }
      ]
    }
  ]
}